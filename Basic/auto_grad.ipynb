{
 "cells": [
  {
   "cell_type": "code",
   "execution_count": 14,
   "metadata": {},
   "outputs": [],
   "source": [
    "import torch as th "
   ]
  },
  {
   "cell_type": "markdown",
   "metadata": {},
   "source": [
    "标量方程 vs 向量 "
   ]
  },
  {
   "cell_type": "code",
   "execution_count": 15,
   "metadata": {},
   "outputs": [],
   "source": [
    "x=th.rand(1,3,requires_grad=True)\n",
    "w=th.rand(3,1,requires_grad=True)\n",
    "y=x.mm(w)\n",
    "y.backward()"
   ]
  },
  {
   "cell_type": "code",
   "execution_count": 16,
   "metadata": {},
   "outputs": [
    {
     "data": {
      "text/plain": [
       "True"
      ]
     },
     "execution_count": 16,
     "metadata": {},
     "output_type": "execute_result"
    }
   ],
   "source": [
    "th.allclose(x.grad,w.T)"
   ]
  },
  {
   "cell_type": "markdown",
   "metadata": {},
   "source": [
    "向量方程 vs 向量"
   ]
  },
  {
   "cell_type": "code",
   "execution_count": 17,
   "metadata": {},
   "outputs": [],
   "source": [
    "xx=th.rand(3,2,requires_grad=True)\n",
    "ww=th.rand(2,1,requires_grad=True)\n",
    "yy=xx.mm(ww)\n",
    "yy.backward(th.ones(yy.size()))"
   ]
  },
  {
   "cell_type": "code",
   "execution_count": 18,
   "metadata": {},
   "outputs": [
    {
     "data": {
      "text/plain": [
       "True"
      ]
     },
     "execution_count": 18,
     "metadata": {},
     "output_type": "execute_result"
    }
   ],
   "source": [
    "g=xx.T.sum(dim=1)[:,None]  # 压缩维度\n",
    "th.allclose(ww.grad,g)"
   ]
  },
  {
   "cell_type": "markdown",
   "metadata": {},
   "source": [
    "向量方程 vs 矩阵"
   ]
  },
  {
   "cell_type": "code",
   "execution_count": 19,
   "metadata": {},
   "outputs": [
    {
     "data": {
      "text/plain": [
       "tensor([[0.4963, 0.4963],\n",
       "        [0.7682, 0.7682],\n",
       "        [0.0885, 0.0885]])"
      ]
     },
     "execution_count": 19,
     "metadata": {},
     "output_type": "execute_result"
    }
   ],
   "source": [
    "th.manual_seed(0)\n",
    "xxx=th.rand(1,3,requires_grad=True)\n",
    "www=th.rand(3,2,requires_grad=True)\n",
    "yyy=xxx.mm(www)\n",
    "yyy.backward(th.ones(yyy.size()))\n",
    "www.grad "
   ]
  },
  {
   "cell_type": "code",
   "execution_count": 20,
   "metadata": {},
   "outputs": [
    {
     "data": {
      "text/plain": [
       "True"
      ]
     },
     "execution_count": 20,
     "metadata": {},
     "output_type": "execute_result"
    }
   ],
   "source": [
    "b=th.tile(xxx.T,dims=(1,2)) # 扩展\n",
    "th.allclose(b,www.grad)"
   ]
  },
  {
   "cell_type": "markdown",
   "metadata": {},
   "source": [
    "矩阵方程 vs 矩阵"
   ]
  },
  {
   "cell_type": "code",
   "execution_count": 21,
   "metadata": {},
   "outputs": [],
   "source": [
    "xt=th.rand(3,2,requires_grad=True)\n",
    "wt=th.rand(2,3,requires_grad=True)\n",
    "tt=xt.mm(wt)\n",
    "tt.backward(th.ones(tt.size())) "
   ]
  },
  {
   "cell_type": "code",
   "execution_count": 22,
   "metadata": {},
   "outputs": [
    {
     "data": {
      "text/plain": [
       "tensor([[1.2029, 1.2029, 1.2029],\n",
       "        [0.6651, 0.6651, 0.6651]])"
      ]
     },
     "execution_count": 22,
     "metadata": {},
     "output_type": "execute_result"
    }
   ],
   "source": [
    "wt.grad"
   ]
  },
  {
   "cell_type": "code",
   "execution_count": 23,
   "metadata": {},
   "outputs": [
    {
     "data": {
      "text/plain": [
       "True"
      ]
     },
     "execution_count": 23,
     "metadata": {},
     "output_type": "execute_result"
    }
   ],
   "source": [
    "cc=xt.T.sum(dim=1)[:,None].tile(dims=(1,3)) # 先压缩再扩展\n",
    "\n",
    "th.equal(cc,wt.grad)"
   ]
  },
  {
   "cell_type": "markdown",
   "metadata": {},
   "source": [
    "总体来说 还是遵循着数学上的求导法则 在数学求导的结果上经过一些压缩 扩展的操作"
   ]
  }
 ],
 "metadata": {
  "kernelspec": {
   "display_name": "yolo",
   "language": "python",
   "name": "python3"
  },
  "language_info": {
   "codemirror_mode": {
    "name": "ipython",
    "version": 3
   },
   "file_extension": ".py",
   "mimetype": "text/x-python",
   "name": "python",
   "nbconvert_exporter": "python",
   "pygments_lexer": "ipython3",
   "version": "3.10.13"
  }
 },
 "nbformat": 4,
 "nbformat_minor": 2
}
